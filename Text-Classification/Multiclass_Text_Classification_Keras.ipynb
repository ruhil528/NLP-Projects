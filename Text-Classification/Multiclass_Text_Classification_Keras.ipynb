{
  "nbformat": 4,
  "nbformat_minor": 0,
  "metadata": {
    "colab": {
      "name": "Multiclass-Text-Classification-Keras.ipynb",
      "version": "0.3.2",
      "provenance": [],
      "collapsed_sections": []
    },
    "kernelspec": {
      "name": "python3",
      "display_name": "Python 3"
    },
    "accelerator": "GPU"
  },
  "cells": [
    {
      "metadata": {
        "id": "5ckTfQAs-nWH",
        "colab_type": "text"
      },
      "cell_type": "markdown",
      "source": [
        "# Multiclass Text Classification - Keras, LSTM"
      ]
    },
    {
      "metadata": {
        "id": "_meOVEsEBAEG",
        "colab_type": "text"
      },
      "cell_type": "markdown",
      "source": [
        "## Import Modules"
      ]
    },
    {
      "metadata": {
        "id": "gMGFGMkq-aGU",
        "colab_type": "code",
        "outputId": "a7bb7661-2943-4416-cc6d-ad3481f84101",
        "colab": {
          "base_uri": "https://localhost:8080/",
          "height": 87
        }
      },
      "cell_type": "code",
      "source": [
        "import pandas as pd\n",
        "import numpy as np\n",
        "import random\n",
        "import pickle\n",
        "\n",
        "import re\n",
        "import nltk\n",
        "from nltk.corpus import stopwords\n",
        "nltk.download('stopwords')\n",
        "from nltk.stem import PorterStemmer, WordNetLemmatizer\n",
        "nltk.download('wordnet')\n",
        "\n",
        "import keras\n",
        "from keras.preprocessing.text import Tokenizer\n",
        "from keras.preprocessing.sequence import pad_sequences\n",
        "from keras.layers import Dense, Input, LSTM, Embedding, Dropout, Activation, SpatialDropout1D\n",
        "from keras.callbacks import EarlyStopping\n",
        "from keras.models import Model\n",
        "from keras.utils import plot_model\n",
        "from keras.utils.np_utils import to_categorical\n",
        "\n",
        "from sklearn.model_selection import train_test_split\n",
        "\n",
        "import matplotlib.pyplot as plt"
      ],
      "execution_count": 67,
      "outputs": [
        {
          "output_type": "stream",
          "text": [
            "[nltk_data] Downloading package stopwords to /root/nltk_data...\n",
            "[nltk_data]   Package stopwords is already up-to-date!\n",
            "[nltk_data] Downloading package wordnet to /root/nltk_data...\n",
            "[nltk_data]   Package wordnet is already up-to-date!\n"
          ],
          "name": "stdout"
        }
      ]
    },
    {
      "metadata": {
        "id": "mCekxpQrBD91",
        "colab_type": "text"
      },
      "cell_type": "markdown",
      "source": [
        "## Mount Google Drive"
      ]
    },
    {
      "metadata": {
        "id": "fZhs5z8GuC3l",
        "colab_type": "code",
        "outputId": "f2ff97cb-c031-4a5b-9797-ef55c7234518",
        "colab": {
          "base_uri": "https://localhost:8080/",
          "height": 34
        }
      },
      "cell_type": "code",
      "source": [
        "# Mount google drive\n",
        "from google.colab import drive\n",
        "drive.mount('/content/gdrive')"
      ],
      "execution_count": 32,
      "outputs": [
        {
          "output_type": "stream",
          "text": [
            "Drive already mounted at /content/gdrive; to attempt to forcibly remount, call drive.mount(\"/content/gdrive\", force_remount=True).\n"
          ],
          "name": "stdout"
        }
      ]
    },
    {
      "metadata": {
        "id": "lxY9zRcVBGeo",
        "colab_type": "text"
      },
      "cell_type": "markdown",
      "source": [
        "## Hyperparameters"
      ]
    },
    {
      "metadata": {
        "id": "uRO7wF0lAY3b",
        "colab_type": "code",
        "colab": {}
      },
      "cell_type": "code",
      "source": [
        "# Hyperparamters\n",
        "epochs = 10\n",
        "emb_dim = 128\n",
        "batch_size = 256"
      ],
      "execution_count": 0,
      "outputs": []
    },
    {
      "metadata": {
        "id": "2Fr84F3HAiHo",
        "colab_type": "text"
      },
      "cell_type": "markdown",
      "source": [
        "## Load News Aggregator Dataset"
      ]
    },
    {
      "metadata": {
        "id": "2SVOXuf--xbA",
        "colab_type": "code",
        "colab": {}
      },
      "cell_type": "code",
      "source": [
        "# load News Aggregator dataset to pandas dataframe\n",
        "df_news = pd.read_csv('/content/gdrive/My Drive/Colab Notebooks/Dataset/newsCorpora.csv', sep='\\t', names=['ID', 'Title', 'URL', 'Publisher', 'Category', 'Story', 'Hostname', 'Timestamp'])\n",
        "df_news = df_news[['Title', 'Category']]\n",
        "\n",
        "# Shuffling dataset\n",
        "shuffled = df_news.reindex(np.random.permutation(df_news.index))\n",
        "\n",
        "# balance the dataset\n",
        "num_of_categories = 45000\n",
        "b = shuffled[shuffled['Category'] == 'b'][:num_of_categories]\n",
        "t = shuffled[shuffled['Category'] == 'e'][:num_of_categories]\n",
        "e = shuffled[shuffled['Category'] == 'm'][:num_of_categories]\n",
        "m = shuffled[shuffled['Category'] == 't'][:num_of_categories]\n",
        "\n",
        "# Concatenate and reshuffle\n",
        "concated = pd.concat([b, e, t, m], ignore_index=True)\n",
        "concated = concated.reindex(np.random.permutation(concated.index))"
      ],
      "execution_count": 0,
      "outputs": []
    },
    {
      "metadata": {
        "id": "BpgIRHM8vkvY",
        "colab_type": "code",
        "outputId": "06c32b96-c4d4-494c-8959-5e61da855ed0",
        "colab": {
          "base_uri": "https://localhost:8080/",
          "height": 386
        }
      },
      "cell_type": "code",
      "source": [
        "# One-hot-encode\n",
        "concated['Label'] = 0\n",
        "\n",
        "concated.loc[concated['Category'] == 'b', 'Label'] = 0\n",
        "concated.loc[concated['Category'] == 'e', 'Label'] = 1\n",
        "concated.loc[concated['Category'] == 'm', 'Label'] = 2\n",
        "concated.loc[concated['Category'] == 't', 'Label'] = 3\n",
        "print(concated.iloc[:10])\n",
        "\n",
        "labels = to_categorical(concated['Label'], num_classes=4)\n",
        "print(labels[:10])"
      ],
      "execution_count": 34,
      "outputs": [
        {
          "output_type": "stream",
          "text": [
            "                                                    Title Category  Label\n",
            "24347   Australians say latest objects need to be insp...        b      0\n",
            "111267  Angelina Jolie talks about Maleficent, her mas...        e      1\n",
            "130565  Friends Were Deeply Concerned About L'Wren Sco...        e      1\n",
            "140018  Move over Google! Amazon reportedly close to a...        t      3\n",
            "122046  Batman: Arkham Knight Delayed Into 2015, But T...        e      1\n",
            "13038   China could set economic weather despite US Fe...        b      0\n",
            "4823    BoE Chief Says Interest Rates Could Rise Soone...        b      0\n",
            "31456   Weekly Jobless Claims Come in Lower but Look Flat        b      0\n",
            "146057    10 Things In Tech You Need To Know This Morning        t      3\n",
            "31897   US STOCKS SNAPSHOT-Wall St ends down; S&P has ...        b      0\n",
            "[[1. 0. 0. 0.]\n",
            " [0. 1. 0. 0.]\n",
            " [0. 1. 0. 0.]\n",
            " [0. 0. 0. 1.]\n",
            " [0. 1. 0. 0.]\n",
            " [1. 0. 0. 0.]\n",
            " [1. 0. 0. 0.]\n",
            " [1. 0. 0. 0.]\n",
            " [0. 0. 0. 1.]\n",
            " [1. 0. 0. 0.]]\n"
          ],
          "name": "stdout"
        }
      ]
    },
    {
      "metadata": {
        "id": "j1G4lYAg_Hws",
        "colab_type": "text"
      },
      "cell_type": "markdown",
      "source": [
        "## Text Processing\n",
        "\n",
        "-  using helper function modified from https://www.kaggle.com/currie32/quora-question-pairs/the-importance-of-cleaning-text"
      ]
    },
    {
      "metadata": {
        "id": "S2Q5G7Nj_AKv",
        "colab_type": "code",
        "colab": {}
      },
      "cell_type": "code",
      "source": [
        "# Helper function to clean data\n",
        "\n",
        "def text_to_wordlist(text, remove_stopwords=False, stem_words=False, lem_words=False):\n",
        "    '''\n",
        "    Clean the text, with the option to remove stopwords and to stem words.\n",
        "    \n",
        "    Convert words to lower case and split them\n",
        "    '''\n",
        "    \n",
        "    text = text.lower().split()\n",
        "\n",
        "    # Optionally, remove stop words\n",
        "    if remove_stopwords:\n",
        "        stops = set(stopwords.words(\"english\"))\n",
        "        text = [w for w in text if not w in stops]\n",
        "    \n",
        "    text = \" \".join(text)\n",
        "\n",
        "    # Clean the text\n",
        "    text = re.sub(r\"[^A-Za-z0-9^,!.\\/'+-=]\", \" \", text)\n",
        "    text = re.sub(r\"what's\", \"what is \", text)\n",
        "    text = re.sub(r\"\\'s\", \" \", text)\n",
        "    text = re.sub(r\"\\'ve\", \" have \", text)\n",
        "    text = re.sub(r\"can't\", \"cannot \", text)\n",
        "    text = re.sub(r\"n't\", \" not \", text)\n",
        "    text = re.sub(r\"i'm\", \"i am \", text)\n",
        "    text = re.sub(r\"\\'re\", \" are \", text)\n",
        "    text = re.sub(r\"\\'d\", \" would \", text)\n",
        "    text = re.sub(r\"\\'ll\", \" will \", text)\n",
        "    text = re.sub(r\",\", \" \", text)\n",
        "    text = re.sub(r\"\\.\", \" \", text)\n",
        "    text = re.sub(r\"!\", \" ! \", text)\n",
        "    text = re.sub(r\"\\/\", \" \", text)\n",
        "    text = re.sub(r\"\\^\", \" ^ \", text)\n",
        "    text = re.sub(r\"\\+\", \" + \", text)\n",
        "    text = re.sub(r\"\\-\", \" - \", text)\n",
        "    text = re.sub(r\"\\=\", \" = \", text)\n",
        "    text = re.sub(r\"'\", \" \", text)\n",
        "    text = re.sub(r\"(\\d+)(k)\", r\"\\g<1>000\", text)\n",
        "    text = re.sub(r\":\", \" : \", text)\n",
        "    text = re.sub(r\" e g \", \" eg \", text)\n",
        "    text = re.sub(r\" b g \", \" bg \", text)\n",
        "    text = re.sub(r\" u s \", \" american \", text)\n",
        "    text = re.sub(r\"\\0s\", \"0\", text)\n",
        "    text = re.sub(r\" 9 11 \", \"911\", text)\n",
        "    text = re.sub(r\"e - mail\", \"email\", text)\n",
        "    text = re.sub(r\"j k\", \"jk\", text)\n",
        "    text = re.sub(r\"\\s{2,}\", \" \", text)\n",
        "    \n",
        "    # Optionally, shorten words to their stems\n",
        "    if stem_words:\n",
        "        text = text.split()\n",
        "        stemmer = PorterStemmer()\n",
        "        stemmed_words = [stemmer.stem(word) for word in text]\n",
        "        text = \" \".join(stemmed_words)\n",
        "        \n",
        "    # Optionally, lemmatize words to their base words\n",
        "    if lem_words:\n",
        "      text = text.split()\n",
        "      lem = WordNetLemmatizer()\n",
        "      lemmed_words = [lem.lemmatize(word) for word in text]\n",
        "      text = \" \".join(lemmed_words)\n",
        "    \n",
        "    # Return a list of words\n",
        "    return(text)"
      ],
      "execution_count": 0,
      "outputs": []
    },
    {
      "metadata": {
        "id": "ZrpUhZJz_YPt",
        "colab_type": "code",
        "outputId": "e41609e7-45f6-4198-a3f1-8abc42e1e4ea",
        "colab": {
          "base_uri": "https://localhost:8080/",
          "height": 34
        }
      },
      "cell_type": "code",
      "source": [
        "# Training and testing dataset\n",
        "n_most_common_words = 38000\n",
        "max_len = 130\n",
        "\n",
        "X_text = concated['Title']\n",
        "X_text_clean = []\n",
        "for idx, text in X_text.iteritems():\n",
        "  out1 = text_to_wordlist(text, remove_stopwords=True, lem_words=True)\n",
        "  X_text_clean.append(out1)\n",
        "  \n",
        "tokenizer = Tokenizer(num_words=n_most_common_words)\n",
        "tokenizer.fit_on_texts(X_text_clean)\n",
        "sequences = tokenizer.texts_to_sequences(X_text_clean)\n",
        "word_index = tokenizer.word_index\n",
        "\n",
        "print('Found unique {} words'.format(len(word_index)))\n",
        "\n",
        "X = pad_sequences(sequences, maxlen=max_len, padding='pre')"
      ],
      "execution_count": 37,
      "outputs": [
        {
          "output_type": "stream",
          "text": [
            "Found unique 36084 words\n"
          ],
          "name": "stdout"
        }
      ]
    },
    {
      "metadata": {
        "id": "HqEHsicG_5iD",
        "colab_type": "text"
      },
      "cell_type": "markdown",
      "source": [
        "## Training and Testing Dataset"
      ]
    },
    {
      "metadata": {
        "id": "ZPckbw58_cXV",
        "colab_type": "code",
        "colab": {
          "base_uri": "https://localhost:8080/",
          "height": 122
        },
        "outputId": "4ed13de8-90ca-49ed-f5c6-0898600889dd"
      },
      "cell_type": "code",
      "source": [
        "# Train-test split\n",
        "x_train, x_test, y_train, y_test = train_test_split(X, labels, test_size=0.25, random_state=88)\n",
        "\n",
        "print(type(x_train))\n",
        "print(type(x_test))\n",
        "print(type(y_train))\n",
        "print(type(y_test))\n",
        "\n",
        "print(x_train.shape, x_test.shape)\n",
        "print(y_train.shape, y_test.shape)"
      ],
      "execution_count": 38,
      "outputs": [
        {
          "output_type": "stream",
          "text": [
            "<class 'numpy.ndarray'>\n",
            "<class 'numpy.ndarray'>\n",
            "<class 'numpy.ndarray'>\n",
            "<class 'numpy.ndarray'>\n",
            "(135000, 130) (45000, 130)\n",
            "(135000, 4) (45000, 4)\n"
          ],
          "name": "stdout"
        }
      ]
    },
    {
      "metadata": {
        "id": "9KRZJt40AdPi",
        "colab_type": "text"
      },
      "cell_type": "markdown",
      "source": [
        "## Build LSTM Model"
      ]
    },
    {
      "metadata": {
        "id": "d29vWFu5_i8W",
        "colab_type": "code",
        "outputId": "a94b4648-91bc-4287-ff97-37a6ae54caf6",
        "colab": {
          "base_uri": "https://localhost:8080/",
          "height": 316
        }
      },
      "cell_type": "code",
      "source": [
        "# LSTM model\n",
        "first = Input(shape=(130,)) \n",
        "embedding1 = Embedding(n_most_common_words, emb_dim)(first)\n",
        "drop1 = SpatialDropout1D(0.7)(embedding1)\n",
        "lstm1 = LSTM(64, dropout=0.7, recurrent_dropout=0.7)(drop1)\n",
        "dense1 = Dense(4, activation='softmax')(lstm1)\n",
        "\n",
        "# Build model\n",
        "model = Model(inputs=first, outputs=dense1)\n",
        "\n",
        "# Model summmary\n",
        "model.summary()\n",
        "\n",
        "# Model compile\n",
        "model.compile(loss='categorical_crossentropy', metrics=['accuracy'], optimizer='adam')\n",
        "\n",
        "# Model plot graph\n",
        "plot_model(model, to_file='/content/gdrive/My Drive/Colab Notebooks/LSTM1.png')"
      ],
      "execution_count": 39,
      "outputs": [
        {
          "output_type": "stream",
          "text": [
            "_________________________________________________________________\n",
            "Layer (type)                 Output Shape              Param #   \n",
            "=================================================================\n",
            "input_2 (InputLayer)         (None, 130)               0         \n",
            "_________________________________________________________________\n",
            "embedding_2 (Embedding)      (None, 130, 128)          4864000   \n",
            "_________________________________________________________________\n",
            "spatial_dropout1d_2 (Spatial (None, 130, 128)          0         \n",
            "_________________________________________________________________\n",
            "lstm_2 (LSTM)                (None, 64)                49408     \n",
            "_________________________________________________________________\n",
            "dense_2 (Dense)              (None, 4)                 260       \n",
            "=================================================================\n",
            "Total params: 4,913,668\n",
            "Trainable params: 4,913,668\n",
            "Non-trainable params: 0\n",
            "_________________________________________________________________\n"
          ],
          "name": "stdout"
        }
      ]
    },
    {
      "metadata": {
        "id": "4cTBsLwp_uT2",
        "colab_type": "code",
        "outputId": "b4779c0b-a2cd-45f5-fca0-67552a823742",
        "colab": {
          "base_uri": "https://localhost:8080/",
          "height": 386
        }
      },
      "cell_type": "code",
      "source": [
        "# Model fit\n",
        "from keras.callbacks import EarlyStopping\n",
        "history = model.fit(x_train, y_train, epochs=epochs, shuffle=False, batch_size=batch_size, verbose=2, validation_split=0.2, callbacks=[EarlyStopping(monitor='val_loss', patience=7, min_delta=0.0001)])"
      ],
      "execution_count": 42,
      "outputs": [
        {
          "output_type": "stream",
          "text": [
            "Train on 108000 samples, validate on 27000 samples\n",
            "Epoch 1/10\n",
            " - 138s - loss: 0.8041 - acc: 0.6738 - val_loss: 0.3023 - val_acc: 0.8983\n",
            "Epoch 2/10\n",
            " - 137s - loss: 0.3528 - acc: 0.8791 - val_loss: 0.2322 - val_acc: 0.9224\n",
            "Epoch 3/10\n",
            " - 137s - loss: 0.2727 - acc: 0.9093 - val_loss: 0.2092 - val_acc: 0.9303\n",
            "Epoch 4/10\n",
            " - 137s - loss: 0.2311 - acc: 0.9235 - val_loss: 0.1986 - val_acc: 0.9339\n",
            "Epoch 5/10\n",
            " - 137s - loss: 0.2100 - acc: 0.9307 - val_loss: 0.1929 - val_acc: 0.9356\n",
            "Epoch 6/10\n",
            " - 136s - loss: 0.1927 - acc: 0.9369 - val_loss: 0.1896 - val_acc: 0.9363\n",
            "Epoch 7/10\n",
            " - 136s - loss: 0.1771 - acc: 0.9408 - val_loss: 0.1889 - val_acc: 0.9368\n",
            "Epoch 8/10\n",
            " - 136s - loss: 0.1664 - acc: 0.9448 - val_loss: 0.1884 - val_acc: 0.9378\n",
            "Epoch 9/10\n",
            " - 137s - loss: 0.1586 - acc: 0.9472 - val_loss: 0.1872 - val_acc: 0.9388\n",
            "Epoch 10/10\n",
            " - 136s - loss: 0.1527 - acc: 0.9496 - val_loss: 0.1896 - val_acc: 0.9391\n"
          ],
          "name": "stdout"
        }
      ]
    },
    {
      "metadata": {
        "id": "v4JPLWFWBFxY",
        "colab_type": "text"
      },
      "cell_type": "markdown",
      "source": [
        "## Plot Model History"
      ]
    },
    {
      "metadata": {
        "id": "BEdjJ73kBHVK",
        "colab_type": "code",
        "outputId": "0ff33eec-d204-40cd-acb8-84b64525914c",
        "colab": {
          "base_uri": "https://localhost:8080/",
          "height": 705
        }
      },
      "cell_type": "code",
      "source": [
        "# Plotting\n",
        "plt.plot(history.history['acc'])\n",
        "plt.plot(history.history['val_acc'])\n",
        "plt.legend(['Train', 'Validation'])\n",
        "plt.xlabel('Epochs')\n",
        "plt.ylabel('Accuracy')\n",
        "plt.show()\n",
        "\n",
        "plt.plot(history.history['loss'])\n",
        "plt.plot(history.history['val_loss'])\n",
        "plt.legend(['Train', 'Validation'])\n",
        "plt.xlabel('Epochs')\n",
        "plt.ylabel('Loss')\n",
        "plt.show()"
      ],
      "execution_count": 68,
      "outputs": [
        {
          "output_type": "display_data",
          "data": {
            "image/png": "[encoded data removed]",
            "text/plain": [
              "<Figure size 576x396 with 1 Axes>"
            ]
          },
          "metadata": {
            "tags": []
          }
        },
        {
          "output_type": "display_data",
          "data": {
            "image/png": "[encoded data removed]",
            "text/plain": [
              "<Figure size 576x396 with 1 Axes>"
            ]
          },
          "metadata": {
            "tags": []
          }
        }
      ]
    },
    {
      "metadata": {
        "id": "ME0sNISrAl0I",
        "colab_type": "text"
      },
      "cell_type": "markdown",
      "source": [
        "## Evaluate the Model"
      ]
    },
    {
      "metadata": {
        "id": "bMGjOvKlrgYm",
        "colab_type": "code",
        "outputId": "7e763844-add5-48a3-ff67-7b657f914602",
        "colab": {
          "base_uri": "https://localhost:8080/",
          "height": 87
        }
      },
      "cell_type": "code",
      "source": [
        "test_acc = model.evaluate(x_test, y_test)\n",
        "print('Test set\\n  Loss: {:0.3f}\\n  Accuracy: {:0.3f}'.format(test_acc[0], test_acc[1]))"
      ],
      "execution_count": 44,
      "outputs": [
        {
          "output_type": "stream",
          "text": [
            "45000/45000 [==============================] - 158s 4ms/step\n",
            "Test set\n",
            "  Loss: 0.185\n",
            "  Accuracy: 0.941\n"
          ],
          "name": "stdout"
        }
      ]
    },
    {
      "metadata": {
        "id": "OxBzbVJdAjc8",
        "colab_type": "text"
      },
      "cell_type": "markdown",
      "source": [
        "## Model Prediction"
      ]
    },
    {
      "metadata": {
        "id": "n4-FWoSR9CiS",
        "colab_type": "code",
        "colab": {
          "base_uri": "https://localhost:8080/",
          "height": 52
        },
        "outputId": "8472311c-867a-4ebe-cbe7-4c858c51a122"
      },
      "cell_type": "code",
      "source": [
        "# Model prediction\n",
        "text = ['The singer has been living in a state of pure bliss ever since the Pirates of the Caribbean star popped the question on Valentine\\'s Day.']\n",
        "seq = tokenizer.texts_to_sequences(text)\n",
        "text_padded = pad_sequences(seq, maxlen=max_len)\n",
        "pred = model.predict(text_padded)\n",
        "labels = ['business', 'entertainment', 'science-and-technology', 'health']\n",
        "print(pred, labels[np.argmax(pred)])\n",
        "print('The predicted label is \\'{}\\''.format(labels[np.argmax(pred)]))"
      ],
      "execution_count": 66,
      "outputs": [
        {
          "output_type": "stream",
          "text": [
            "[[4.6725490e-04 9.9918753e-01 1.6938722e-04 1.7574341e-04]] entertainment\n",
            "The predicted label is 'entertainment'\n"
          ],
          "name": "stdout"
        }
      ]
    },
    {
      "metadata": {
        "id": "KuMsoS_dAvpB",
        "colab_type": "text"
      },
      "cell_type": "markdown",
      "source": [
        "## Save Model"
      ]
    },
    {
      "metadata": {
        "id": "AE7kfesIv4fT",
        "colab_type": "code",
        "colab": {}
      },
      "cell_type": "code",
      "source": [
        "# Save keras model\n",
        "model.save('/content/gdrive/My Drive/Colab Notebooks/models/multiclass_text_classifier_032719.h5')\n",
        "\n",
        "# Saving tokenizer to file \n",
        "with open('/content/gdrive/My Drive/Colab Notebooks/models/multiclass_text_classifier_tokenizer_032719.pickle', 'wb') as handle:\n",
        "    pickle.dump(tokenizer, handle, protocol=pickle.HIGHEST_PROTOCOL)\n",
        "\n",
        "# loading\n",
        "# with open('tokenizer.pickle', 'rb') as handle:\n",
        "#     tokenizer = pickle.load(handle)"
      ],
      "execution_count": 0,
      "outputs": []
    },
    {
      "metadata": {
        "id": "02LSzwKVv1_V",
        "colab_type": "code",
        "colab": {}
      },
      "cell_type": "code",
      "source": [
        ""
      ],
      "execution_count": 0,
      "outputs": []
    }
  ]
}